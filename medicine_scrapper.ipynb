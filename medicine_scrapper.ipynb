{
 "cells": [
  {
   "cell_type": "code",
   "execution_count": 13,
   "metadata": {},
   "outputs": [],
   "source": [
    "from bs4 import BeautifulSoup\n",
    "import requests"
   ]
  },
  {
   "cell_type": "code",
   "execution_count": 14,
   "metadata": {},
   "outputs": [
    {
     "name": "stdout",
     "output_type": "stream",
     "text": [
      "corona\n"
     ]
    }
   ],
   "source": [
    "med=input()\n",
    "url=\"\"\n",
    "if med == \"crocin\" or med==\"fever\":\n",
    "    url=\"https://www.webmd.com/drugs/2/drug-57595/paracetamol-oral/details\"\n",
    "elif med==\"alegra\" or med== \"allergy\":\n",
    "    url=\"https://www.webmd.com/drugs/2/drug-13821-2204/allegra-oral/fexofenadine-oral/details\"\n",
    "elif med== \"corona\" or med== \"chlororquine\":\n",
    "    url=\"https://www.webmd.com/drugs/2/drug-8633/chloroquine-oral/details\"\n",
    "    "
   ]
  },
  {
   "cell_type": "code",
   "execution_count": 15,
   "metadata": {},
   "outputs": [],
   "source": [
    "hdr = {'User-Agent': 'Mozilla/5.0 (X11; Linux x86_64) AppleWebKit/537.11 (KHTML, like Gecko) Chrome/23.0.1271.64 Safari/537.11',\n",
    "           'Accept': 'text/html,application/xhtml+xml,application/xml;q=0.9,*/*;q=0.8',\n",
    "           'Accept-Charset': 'ISO-8859-1,utf-8;q=0.7,*;q=0.3',\n",
    "           'Accept-Encoding': 'none',\n",
    "           'Accept-Language': 'en-US,en;q=0.8',\n",
    "           'Connection': 'keep-alive'}\n",
    " \n",
    "br=requests.get(url,headers=hdr)\n",
    "soup=BeautifulSoup(br.text,\"html.parser\")\n",
    "s2=soup.find('div',{\"class\":\"expand-content\"})\n",
    "#print(s2.find('a').href)\n"
   ]
  },
  {
   "cell_type": "code",
   "execution_count": 16,
   "metadata": {},
   "outputs": [],
   "source": [
    "l=[]\n",
    "links=soup.find_all('h2')\n",
    "for i in links:\n",
    "    l.append(i.text)"
   ]
  },
  {
   "cell_type": "code",
   "execution_count": 17,
   "metadata": {},
   "outputs": [],
   "source": [
    "#print(l[0])"
   ]
  },
  {
   "cell_type": "code",
   "execution_count": 18,
   "metadata": {},
   "outputs": [],
   "source": [
    "l1=[]\n",
    "content=soup.find_all('div',{'class':'inner-content'})\n",
    "for i in content:\n",
    "    l1.append(i.text)"
   ]
  },
  {
   "cell_type": "code",
   "execution_count": 19,
   "metadata": {},
   "outputs": [
    {
     "name": "stdout",
     "output_type": "stream",
     "text": [
      "Uses\n",
      "UsesChloroquine is used to prevent or treat malaria caused by mosquito bites. Chloroquine belongs to a class of drugs known as antimalarials.The United States Centers for Disease Control provide updated guidelines and travel recommendations for the prevention and treatment of malaria in different parts of the world. Discuss the most recent information with your doctor before traveling to areas where malaria occurs.Chloroquine is also used to treat infection caused by a different type of parasite (ameba).Chloroquine is not recommended for coronavirus infection, also known as COVID-19, unless you are enrolled in a study. Talk to your doctor about the risks and benefits.\n",
      "How to use Chloroquine PhosphateTake this medication by mouth, usually with food to prevent stomach upset, exactly as directed by your doctor. The dosage and length of treatment are based on your medical condition and response to treatment. In children, dosage is also based on weight.To prevent malaria, take chloroquine as directed by your doctor, usually once a week on the same day each week. Mark a calendar to help you remember. This drug is usually started 1 to 2 weeks before entering the malarious area. Continue to take it weekly while in the area and for 4 to 8 weeks after leaving the area, or as directed by your doctor.To treat malaria or an ameba infection, follow your doctor's instructions.If you are also taking a certain drug for diarrhea (kaolin) or taking antacids (such as magnesium/aluminum hydroxide), take chloroquine at least 4 hours before or after these products. These products may bind with chloroquine, preventing your body from fully absorbing it.Use this medication regularly in order to get the most benefit from it. Take this medication exactly as prescribed. Do not stop taking it without talking with your doctor. It is important to continue taking this for the length of time prescribed. Stopping prevention or treatment too soon may lead to infection or a return of the infection.Tell your doctor if your condition lasts or gets worse. Chloroquine may not prevent malaria in all cases. If you experience fever or other symptoms of illness, get medical help right away (especially while in the malarious area and for 2 months after returning from the area). You may need a different medication. Avoid exposure to mosquitoes. (See also Notes section.\n",
      "\n",
      "Side Effects\n",
      "Side EffectsNausea, vomiting, abdominal cramps, headache, and diarrhea may occur. If any of these effects last or get worse, tell your doctor or pharmacist promptly.Remember that your doctor has prescribed this medication because he or she has judged that the benefit to you is greater than the risk of side effects. Many people using this medication do not have serious side effects.Tell your doctor right away if you have any serious side effects, including: slow heartbeat, symptoms of heart failure (such as shortness of breath, swelling ankles/feet, unusual tiredness, unusual/sudden weight gain), mental/mood changes (such as anxiety, depression, rare thoughts of suicide, hallucinations), hearing changes (such as ringing in the ears, hearing loss), easy bruising/bleeding, signs of infection (such as sore throat that doesn't go away, fever), signs of liver disease (such as severe stomach/abdominal pain, yellowing eyes/skin, dark urine), muscle weakness, unwanted/uncontrolled movements (including tongue/face twitching), hair loss, hair/skin color changes.This medication may cause low blood sugar (hypoglycemia). Tell your doctor right away if you develop symptoms of low blood sugar, such as sudden sweating, shaking, hunger, blurred vision, dizziness, or tingling hands/feet. If you have diabetes, be sure to check your blood sugars regularly. Your doctor may need to adjust your diabetes medication.Get medical help right away if you have any very serious side effects, including: severe dizziness, fainting, fast/irregular heartbeat, seizures.This medication may cause serious eye/vision problems. The risk for these side effects is increased with long-term use of this medication and with taking this medication in high doses. Get medical help right away if you have any symptoms of serious eye problems, including: sensitivity to light, vision changes (such as light flashes/streaks, blurred vision, difficulty reading, missing areas of vision).A very serious allergic reaction to this drug is rare. However, get medical help right away if you notice any symptoms of a serious allergic reaction, including: rash, itching/swelling (especially of the face/tongue/throat), severe dizziness, trouble breathing.This is not a complete list of possible side effects. If you notice other effects not listed above, contact your doctor or pharmacist.In the US -Call your doctor for medical advice about side effects. You may report side effects to FDA at 1-800-FDA-1088 or at www.fda.gov/medwatch.In Canada - Call your doctor for medical advice about side effects. You may report side effects to Health Canada at 1-866-234-2345.\n",
      "Related Links\n",
      "\n",
      "Precautions\n",
      "PrecautionsBefore taking chloroquine, tell your doctor or pharmacist if you are allergic to it; or to hydroxychloroquine; or if you have any other allergies. This product may contain inactive ingredients, which can cause allergic reactions or other problems. Talk to your pharmacist for more details.Before using this medication, tell your doctor or pharmacist your medical history, especially of: a certain enzyme problem (glucose-6-phosphate dehydrogenase deficiency-G6PD), vision/eye problems, hearing problems, kidney disease, liver disease, regular alcohol use/abuse, skin problems (such as psoriasis), a certain blood disorder (porphyria), seizures.If you have diabetes, this product may affect your blood sugar. Check your blood sugar regularly as directed and share the results with your doctor. Tell your doctor right away if you have symptoms of low blood sugar (see Side Effects section). Your doctor may need to adjust your diabetes medication, exercise program, or diet.This medication may make you more sensitive to the sun. Limit your time in the sun. Avoid tanning booths and sunlamps. Use sunscreen and wear protective clothing when outdoors. Tell your doctor right away if you get sunburned or have skin blisters/redness.Before having surgery, tell your doctor or dentist about all the products you use (including prescription drugs, nonprescription drugs, and herbal products).Chloroquine may cause a condition that affects the heart rhythm (QT prolongation). QT prolongation can rarely cause serious (rarely fatal) fast/irregular heartbeat and other symptoms (such as severe dizziness, fainting) that need medical attention right away.The risk of QT prolongation may be increased if you have certain medical conditions or are taking other drugs that may cause QT prolongation. Before using chloroquine, tell your doctor or pharmacist of all the drugs you take and if you have any of the following conditions: certain heart problems (heart failure, slow heartbeat, QT prolongation in the EKG), family history of certain heart problems (QT prolongation in the EKG, sudden cardiac death).Low levels of potassium or magnesium in the blood may also increase your risk of QT prolongation. This risk may increase if you use certain drugs (such as diuretics/\"water pills\") or if you have conditions such as severe sweating, diarrhea, or vomiting. Talk to your doctor about using chloroquine safely.Older adults may be more sensitive to the side effects of this drug, especially QT prolongation (see above).During pregnancy, this medication should be used only when clearly needed. Discuss the risks and benefits with your doctor.This drug passes into breast milk. Consult your doctor before breast-feeding.\n",
      "Related Links\n",
      "\n",
      "Interactions\n",
      "InteractionsSee also How to Use section.Drug interactions may change how your medications work or increase your risk for serious side effects. This document does not contain all possible drug interactions. Keep a list of all the products you use (including prescription/nonprescription drugs and herbal products) and share it with your doctor and pharmacist. Do not start, stop, or change the dosage of any medicines without your doctor's approval.Some products that may interact with this drug are: mefloquine, penicillamine, remdesivir.Many drugs besides chloroquine may affect the heart rhythm (QT prolongation). Some examples are amiodarone, azithromycin, disopyramide, dronedarone, pimozide, quinidine, among others.Certain vaccines (rabies vaccine, cholera vaccine) may not work as well if given while you are taking chloroquine. Ask your doctor for more details.\n",
      "Related Links\n",
      "\n",
      "Overdose\n",
      "OverdoseIf someone has overdosed and has serious symptoms such as passing out or trouble breathing, call 911. Otherwise, call a poison control center right away. US residents can call their local poison control center at 1-800-222-1222. Canada residents can call a provincial poison control center. Symptoms of overdose may include: fast/irregular heartbeat, fainting, slow/shallow breathing, unwanted/uncontrolled movements (including tongue/face twitching), seizures.NotesDo not share this medication with others.Lab and/or medical tests (such as eye exams, reflex tests, liver tests, EKG, complete blood counts) should be done if you are taking chloroquine for a long time. Keep all medical and lab appointments. Consult your doctor for more details.When traveling in an area at risk for malaria, use protective clothing, insect repellent, and bed nets. Remain indoors or in well-screened areas when possible. If you are taking this medication to prevent or treat malaria, use it for your current travel or condition only. Do not use it later to prevent or treat another infection unless your doctor tells you to.Missed DoseIf you miss a dose, take it as soon as you remember. If it is near the time of the next dose, skip the missed dose. Take your next dose at the regular time. Do not double the dose to catch up.StorageStore at room temperature away from light and moisture. Do not store in the bathroom. Keep all medications away from children and pets.Do not flush medications down the toilet or pour them into a drain unless instructed to do so. Properly discard this product when it is expired or no longer needed. Consult your pharmacist or local waste disposal company.Information last revised July 2020. Copyright(c) 2020 First Databank, Inc.Find Lowest Prices\n",
      "\n",
      "\n"
     ]
    }
   ],
   "source": [
    "l2=[]\n",
    "m=[]\n",
    "s=''\n",
    "for i in range(len(l1)-1):\n",
    "    m=[]\n",
    "    m=l1[i].split('\\n')\n",
    "    print(l[i])\n",
    "    s=m[1]+'\\n'+m[2]\n",
    "    print(s)\n",
    "    print()\n",
    "    "
   ]
  },
  {
   "cell_type": "code",
   "execution_count": 17,
   "metadata": {},
   "outputs": [],
   "source": [
    "#for script in body.select('script'):\n",
    "#    script.extract()\n",
    "#for script in body.select('meta'):\n",
    "#    script.extract()\n",
    "#for script in body.select('css'):\n",
    "#    script.extract()\n",
    "#for script in body.select('!--'):\n",
    "#    script.extract()\n",
    "#text=body\n",
    "\n",
    "#print(text)"
   ]
  },
  {
   "cell_type": "code",
   "execution_count": null,
   "metadata": {},
   "outputs": [],
   "source": [
    "#soup = BeautifulSoup('<p>This is a slimy text and <i> I am slimer</i></p>')\n",
    "#soup.i.decompose()\n",
    "#print str(soup)\n",
    "#prints '<p>This is a slimy text and</p>'"
   ]
  }
 ],
 "metadata": {
  "kernelspec": {
   "display_name": "Python 3",
   "language": "python",
   "name": "python3"
  },
  "language_info": {
   "codemirror_mode": {
    "name": "ipython",
    "version": 3
   },
   "file_extension": ".py",
   "mimetype": "text/x-python",
   "name": "python",
   "nbconvert_exporter": "python",
   "pygments_lexer": "ipython3",
   "version": "3.7.6"
  }
 },
 "nbformat": 4,
 "nbformat_minor": 4
}
