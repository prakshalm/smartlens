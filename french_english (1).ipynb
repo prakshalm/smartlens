{
  "nbformat": 4,
  "nbformat_minor": 0,
  "metadata": {
    "colab": {
      "name": "french-english.ipynb",
      "provenance": []
    },
    "kernelspec": {
      "name": "python3",
      "display_name": "Python 3"
    }
  },
  "cells": [
    {
      "cell_type": "code",
      "metadata": {
        "id": "ZqgNebi2lX6W",
        "colab_type": "code",
        "colab": {}
      },
      "source": [
        "import tensorflow as tf\n",
        "\n",
        "import matplotlib.pyplot as plt\n",
        "import matplotlib.ticker as ticker\n",
        "from sklearn.model_selection import train_test_split\n",
        "\n",
        "import unicodedata\n",
        "import re\n",
        "import numpy as np\n",
        "import os\n",
        "import io\n",
        "import time"
      ],
      "execution_count": 1,
      "outputs": []
    },
    {
      "cell_type": "markdown",
      "metadata": {
        "id": "U5TU_g3Nl68L",
        "colab_type": "text"
      },
      "source": [
        "DOWNLOADING THE SOURCE FILE FOR HINDI TO ENGLISH  FROM -- http://www.manythings.org/anki/"
      ]
    },
    {
      "cell_type": "code",
      "metadata": {
        "id": "Qr3T2D_jluih",
        "colab_type": "code",
        "colab": {
          "base_uri": "https://localhost:8080/",
          "height": 120
        },
        "outputId": "45023e49-f149-4e67-994f-2f45aa79906c"
      },
      "source": [
        "from google.colab import drive\n",
        "drive.mount('/content/drive')"
      ],
      "execution_count": 2,
      "outputs": [
        {
          "output_type": "stream",
          "text": [
            "Go to this URL in a browser: https://accounts.google.com/o/oauth2/auth?client_id=947318989803-6bn6qk8qdgf4n4g3pfee6491hc0brc4i.apps.googleusercontent.com&redirect_uri=urn%3aietf%3awg%3aoauth%3a2.0%3aoob&scope=email%20https%3a%2f%2fwww.googleapis.com%2fauth%2fdocs.test%20https%3a%2f%2fwww.googleapis.com%2fauth%2fdrive%20https%3a%2f%2fwww.googleapis.com%2fauth%2fdrive.photos.readonly%20https%3a%2f%2fwww.googleapis.com%2fauth%2fpeopleapi.readonly&response_type=code\n",
            "\n",
            "Enter your authorization code:\n",
            "··········\n",
            "Mounted at /content/drive\n"
          ],
          "name": "stdout"
        }
      ]
    },
    {
      "cell_type": "code",
      "metadata": {
        "id": "uSOvHU9Dm5BR",
        "colab_type": "code",
        "colab": {}
      },
      "source": [
        "path_to_file = \"/content/drive/My Drive/Translation Dataset/French - English/fra.txt\""
      ],
      "execution_count": 3,
      "outputs": []
    },
    {
      "cell_type": "markdown",
      "metadata": {
        "id": "2jkwy9CMq-Vz",
        "colab_type": "text"
      },
      "source": [
        "PREPROCESS SENTENCE "
      ]
    },
    {
      "cell_type": "code",
      "metadata": {
        "id": "L2P8M-Enqw4l",
        "colab_type": "code",
        "colab": {}
      },
      "source": [
        "# Converts the unicode file to ascii\n",
        "def unicode_to_ascii(s):\n",
        "  return ''.join(c for c in unicodedata.normalize('NFD', s)\n",
        "      if unicodedata.category(c) != 'Mn')"
      ],
      "execution_count": 4,
      "outputs": []
    },
    {
      "cell_type": "code",
      "metadata": {
        "id": "GSOexSqJ0L_X",
        "colab_type": "code",
        "colab": {}
      },
      "source": [
        "def preprocess_sentence(w):\n",
        "  w = unicode_to_ascii(w.lower().strip())\n",
        "  w = re.sub(r\"([?.!¿])\",r\" \\1 \",w)\n",
        "  w = re.sub(r'[\" \"]+', \" \",w)\n",
        "  w = re.sub(r\"[^a-zA-Z?.!,¿]+\", \" \",w)\n",
        "  w = w.strip()\n",
        "  w = '<start> '+w+' <end>'\n",
        "  return w"
      ],
      "execution_count": 5,
      "outputs": []
    },
    {
      "cell_type": "code",
      "metadata": {
        "id": "AfclgmvH6GX6",
        "colab_type": "code",
        "colab": {
          "base_uri": "https://localhost:8080/",
          "height": 33
        },
        "outputId": "bd441cbd-ec8f-49b7-b748-0b5cfc62f596"
      },
      "source": [
        "print(preprocess_sentence(\"Hey.... wanna dance?[?\"))"
      ],
      "execution_count": 6,
      "outputs": [
        {
          "output_type": "stream",
          "text": [
            "<start> hey . . . . wanna dance ? ? <end>\n"
          ],
          "name": "stdout"
        }
      ]
    },
    {
      "cell_type": "markdown",
      "metadata": {
        "id": "27urDSCfFUs9",
        "colab_type": "text"
      },
      "source": [
        "CREATING DATASET"
      ]
    },
    {
      "cell_type": "code",
      "metadata": {
        "id": "3umqHgAL6cEF",
        "colab_type": "code",
        "colab": {}
      },
      "source": [
        "def create_dataset(path, num_examples):\n",
        "  lines = io.open(path, encoding = 'UTF-8').read().strip().split('\\n')\n",
        "  word_pairs = [[preprocess_sentence(w) for w in l.split('\\t')]  for l in lines[:num_examples]]\n",
        "  return zip(*word_pairs)"
      ],
      "execution_count": 7,
      "outputs": []
    },
    {
      "cell_type": "code",
      "metadata": {
        "id": "vUrG0OGSII9N",
        "colab_type": "code",
        "colab": {
          "base_uri": "https://localhost:8080/",
          "height": 70
        },
        "outputId": "e3cb6a63-b44b-4d7a-cd57-8b4153ffcf11"
      },
      "source": [
        "en, fr = create_dataset(path_to_file, None)\n",
        "print(en[-1])\n",
        "print(fr[-1])"
      ],
      "execution_count": 8,
      "outputs": [
        {
          "output_type": "stream",
          "text": [
            "<start> it may be impossible to get a completely error free corpus due to the nature of this kind of collaborative effort . however, if we encourage members to contribute sentences in their own languages rather than experiment in languages they are learning, we might be able to minimize errors . <end>\n",
            "<start> il est peut etre impossible d obtenir un corpus completement denue de fautes, etant donnee la nature de ce type d entreprise collaborative . cependant, si nous encourageons les membres a produire des phrases dans leurs propres langues plutot que d experimenter dans les langues qu ils apprennent, nous pourrions etre en mesure de reduire les erreurs . <end>\n"
          ],
          "name": "stdout"
        }
      ]
    },
    {
      "cell_type": "code",
      "metadata": {
        "id": "HRGtwbThIQn5",
        "colab_type": "code",
        "colab": {}
      },
      "source": [
        ""
      ],
      "execution_count": 8,
      "outputs": []
    },
    {
      "cell_type": "code",
      "metadata": {
        "id": "XllQy7TKISOq",
        "colab_type": "code",
        "colab": {}
      },
      "source": [
        ""
      ],
      "execution_count": 8,
      "outputs": []
    },
    {
      "cell_type": "code",
      "metadata": {
        "id": "12BJD63CcIWT",
        "colab_type": "code",
        "colab": {}
      },
      "source": [
        ""
      ],
      "execution_count": 8,
      "outputs": []
    },
    {
      "cell_type": "markdown",
      "metadata": {
        "id": "xdzudMtzqu3U",
        "colab_type": "text"
      },
      "source": [
        "TOKENIZATION"
      ]
    },
    {
      "cell_type": "code",
      "metadata": {
        "id": "su9Y3wy9cOSz",
        "colab_type": "code",
        "colab": {}
      },
      "source": [
        "def tokenize(lang):\n",
        "  lang_tokenizer = tf.keras.preprocessing.text.Tokenizer(filters='')\n",
        "  lang_tokenizer.fit_on_texts(lang)\n",
        "  tensor = lang_tokenizer.texts_to_sequences(lang)\n",
        "  tensor = tf.keras.preprocessing.sequence.pad_sequences(tensor,padding = 'post')\n",
        "  return tensor , lang_tokenizer"
      ],
      "execution_count": 9,
      "outputs": []
    },
    {
      "cell_type": "markdown",
      "metadata": {
        "id": "E-NzNoo1cmI2",
        "colab_type": "text"
      },
      "source": [
        "LOADING DATASET "
      ]
    },
    {
      "cell_type": "code",
      "metadata": {
        "id": "UtL51Q6Jc8rr",
        "colab_type": "code",
        "colab": {}
      },
      "source": [
        "def load_dataset(path,num_examples = None):\n",
        "  targ_lang, inp_lang = create_dataset(path,num_examples)\n",
        "  input_tensor, input_lang_tokenizer = tokenize(inp_lang)\n",
        "  targ_tensor, targ_lang_tokenizer = tokenize(targ_lang)\n",
        "  return input_tensor,targ_tensor,input_lang_tokenizer,targ_lang_tokenizer"
      ],
      "execution_count": 10,
      "outputs": []
    },
    {
      "cell_type": "code",
      "metadata": {
        "id": "l2EE1YA5gBVd",
        "colab_type": "code",
        "colab": {
          "base_uri": "https://localhost:8080/",
          "height": 50
        },
        "outputId": "456c3337-0e44-43f2-8ec3-85622ddccf12"
      },
      "source": [
        "num_examples = 40000\n",
        "input_tensor, target_tensor, inp_lang, targ_lang = load_dataset(path_to_file, num_examples)\n",
        "max_length_targ , max_length_inp = target_tensor.shape[1],input_tensor.shape[1]\n",
        "print(max_length_targ)\n",
        "print(max_length_inp)"
      ],
      "execution_count": 11,
      "outputs": [
        {
          "output_type": "stream",
          "text": [
            "11\n",
            "18\n"
          ],
          "name": "stdout"
        }
      ]
    },
    {
      "cell_type": "markdown",
      "metadata": {
        "id": "XmATM-RQjn5K",
        "colab_type": "text"
      },
      "source": [
        "TRAIN - TEST SPLIT\n"
      ]
    },
    {
      "cell_type": "code",
      "metadata": {
        "id": "SEnOquZujh5F",
        "colab_type": "code",
        "colab": {
          "base_uri": "https://localhost:8080/",
          "height": 33
        },
        "outputId": "a3399ada-dbfe-4423-85fe-bb771e0c14e6"
      },
      "source": [
        "# Creating training and validation sets using an 80-20 split\n",
        "input_tensor_train, input_tensor_val, target_tensor_train, target_tensor_val = train_test_split(input_tensor, target_tensor, test_size=0.2)\n",
        "\n",
        "# Show length\n",
        "print(len(input_tensor_train), len(target_tensor_train), len(input_tensor_val), len(target_tensor_val))"
      ],
      "execution_count": 12,
      "outputs": [
        {
          "output_type": "stream",
          "text": [
            "32000 32000 8000 8000\n"
          ],
          "name": "stdout"
        }
      ]
    },
    {
      "cell_type": "code",
      "metadata": {
        "id": "ZBbnyMZipG6l",
        "colab_type": "code",
        "colab": {}
      },
      "source": [
        "def convert(lang,tensor):\n",
        "  for t in tensor:\n",
        "    if t!=0:\n",
        "      print(\"%d---%s\" %(t,lang.index_word[t]))"
      ],
      "execution_count": 13,
      "outputs": []
    },
    {
      "cell_type": "code",
      "metadata": {
        "id": "FE4FWO7YpaY_",
        "colab_type": "code",
        "colab": {
          "base_uri": "https://localhost:8080/",
          "height": 301
        },
        "outputId": "cb10f8bc-9cba-46a7-b95c-e4c07b263950"
      },
      "source": [
        "print (\"Input Language; index to word mapping\")\n",
        "convert(inp_lang, input_tensor_train[0])\n",
        "print ()\n",
        "print (\"Target Language; index to word mapping\")\n",
        "convert(targ_lang, target_tensor_train[0])"
      ],
      "execution_count": 14,
      "outputs": [
        {
          "output_type": "stream",
          "text": [
            "Input Language; index to word mapping\n",
            "1---<start>\n",
            "36---elle\n",
            "8---a\n",
            "24---l\n",
            "80---air\n",
            "7765---paumee\n",
            "3---.\n",
            "2---<end>\n",
            "\n",
            "Target Language; index to word mapping\n",
            "1---<start>\n",
            "35---she\n",
            "194---looks\n",
            "541---confused\n",
            "3---.\n",
            "2---<end>\n"
          ],
          "name": "stdout"
        }
      ]
    },
    {
      "cell_type": "markdown",
      "metadata": {
        "id": "2TEWphLrpY5l",
        "colab_type": "text"
      },
      "source": [
        "Creating a tf.data dataset"
      ]
    },
    {
      "cell_type": "code",
      "metadata": {
        "id": "k3H-cusRpZa5",
        "colab_type": "code",
        "colab": {}
      },
      "source": [
        "BUFFER_SIZE = len(input_tensor_train)\n",
        "BATCH_SIZE = 64\n",
        "steps_per_epoch = len(input_tensor_train)//BATCH_SIZE\n",
        "embedding_dim = 256\n",
        "units = 1024\n",
        "vocab_inp_size = len(inp_lang.word_index)+1\n",
        "vocab_tar_size = len(targ_lang.word_index)+1\n",
        "\n",
        "dataset = tf.data.Dataset.from_tensor_slices((input_tensor_train, target_tensor_train)).shuffle(BUFFER_SIZE)\n",
        "dataset = dataset.batch(BATCH_SIZE, drop_remainder=True)"
      ],
      "execution_count": 15,
      "outputs": []
    },
    {
      "cell_type": "code",
      "metadata": {
        "id": "jQIMlJR6IZM1",
        "colab_type": "code",
        "colab": {
          "base_uri": "https://localhost:8080/",
          "height": 33
        },
        "outputId": "0b4fae18-863c-458f-d4bf-d2526e4d9768"
      },
      "source": [
        "example_input_batch, example_target_batch = next(iter(dataset))\n",
        "example_input_batch.shape, example_target_batch.shape"
      ],
      "execution_count": 16,
      "outputs": [
        {
          "output_type": "execute_result",
          "data": {
            "text/plain": [
              "(TensorShape([64, 18]), TensorShape([64, 11]))"
            ]
          },
          "metadata": {
            "tags": []
          },
          "execution_count": 16
        }
      ]
    },
    {
      "cell_type": "markdown",
      "metadata": {
        "id": "N3DCFYuhu-lm",
        "colab_type": "text"
      },
      "source": [
        "ENCODER - DECODER MODEL "
      ]
    },
    {
      "cell_type": "markdown",
      "metadata": {
        "id": "eWt2oEUEvEcv",
        "colab_type": "text"
      },
      "source": [
        " 1 ENCODER MODEL"
      ]
    },
    {
      "cell_type": "code",
      "metadata": {
        "id": "Ye5ZLbeDu7iO",
        "colab_type": "code",
        "colab": {}
      },
      "source": [
        "class Encoder(tf.keras.Model):\n",
        "  def __init__(self, vocab_size, embedding_dim, enc_units, batch_sz):\n",
        "    super(Encoder, self).__init__()\n",
        "    self.batch_sz = batch_sz\n",
        "    self.enc_units = enc_units\n",
        "    self.embedding = tf.keras.layers.Embedding(vocab_size, embedding_dim)\n",
        "    self.gru = tf.keras.layers.GRU(self.enc_units,\n",
        "                                   return_sequences=True,\n",
        "                                   return_state=True,\n",
        "                                   recurrent_initializer='glorot_uniform')\n",
        "\n",
        "  def call(self, x, hidden):\n",
        "    x = self.embedding(x)\n",
        "    output, state = self.gru(x, initial_state = hidden)\n",
        "    return output, state\n",
        "\n",
        "  def initialize_hidden_state(self):\n",
        "    return tf.zeros((self.batch_sz, self.enc_units))"
      ],
      "execution_count": 17,
      "outputs": []
    },
    {
      "cell_type": "code",
      "metadata": {
        "id": "YXyhDRQ9Hck6",
        "colab_type": "code",
        "colab": {
          "base_uri": "https://localhost:8080/",
          "height": 50
        },
        "outputId": "a787ba71-144f-4334-f269-537063990634"
      },
      "source": [
        "encoder = Encoder(vocab_inp_size, embedding_dim, units, BATCH_SIZE)\n",
        "\n",
        "# sample input\n",
        "sample_hidden = encoder.initialize_hidden_state()\n",
        "sample_output, sample_hidden = encoder(example_input_batch, sample_hidden)\n",
        "print ('Encoder output shape: (batch size, sequence length, units) {}'.format(sample_output.shape))\n",
        "print ('Encoder Hidden state shape: (batch size, units) {}'.format(sample_hidden.shape))"
      ],
      "execution_count": 18,
      "outputs": [
        {
          "output_type": "stream",
          "text": [
            "Encoder output shape: (batch size, sequence length, units) (64, 18, 1024)\n",
            "Encoder Hidden state shape: (batch size, units) (64, 1024)\n"
          ],
          "name": "stdout"
        }
      ]
    },
    {
      "cell_type": "markdown",
      "metadata": {
        "id": "nzFjWDhVIw9u",
        "colab_type": "text"
      },
      "source": [
        "![image.png](data:image/png;base64,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)"
      ]
    },
    {
      "cell_type": "code",
      "metadata": {
        "id": "O-QCuTKPHipq",
        "colab_type": "code",
        "colab": {}
      },
      "source": [
        "class BahdanauAttention(tf.keras.layers.Layer):\n",
        "  def __init__(self, units):\n",
        "    super(BahdanauAttention, self).__init__()\n",
        "    self.W1 = tf.keras.layers.Dense(units) #encoder output\n",
        "    self.W2 = tf.keras.layers.Dense(units) #decoder hidden\n",
        "    self.V = tf.keras.layers.Dense(1)\n",
        "\n",
        "  def call(self, query, values):\n",
        "    # query hidden state shape == (batch_size, hidden size)\n",
        "    # query_with_time_axis shape == (batch_size, 1, hidden size)\n",
        "    # values shape == (batch_size, max_len, hidden size)\n",
        "    # we are doing this to broadcast addition along the time axis to calculate the score\n",
        "    query_with_time_axis = tf.expand_dims(query, 1)\n",
        "\n",
        "    # score shape == (batch_size, max_length, 1)\n",
        "    # we get 1 at the last axis because we are applying score to self.V\n",
        "    # the shape of the tensor before applying self.V is (batch_size, max_length, units)\n",
        "    score = self.V(tf.nn.tanh(\n",
        "        self.W1(query_with_time_axis) + self.W2(values)))\n",
        "\n",
        "    # attention_weights shape == (batch_size, max_length, 1)\n",
        "    attention_weights = tf.nn.softmax(score, axis=1)\n",
        "\n",
        "    # context_vector shape after sum == (batch_size, hidden_size)\n",
        "    context_vector = attention_weights * values\n",
        "    context_vector = tf.reduce_sum(context_vector, axis=1)\n",
        "\n",
        "    return context_vector, attention_weights"
      ],
      "execution_count": 19,
      "outputs": []
    },
    {
      "cell_type": "code",
      "metadata": {
        "id": "kRltERIWJtxD",
        "colab_type": "code",
        "colab": {
          "base_uri": "https://localhost:8080/",
          "height": 50
        },
        "outputId": "0f71cb4d-ec69-4bd1-b471-0bf84065a61b"
      },
      "source": [
        "attention_layer = BahdanauAttention(10)\n",
        "attention_result, attention_weights = attention_layer(sample_hidden, sample_output)\n",
        "\n",
        "print(\"Attention result shape: (batch size, units) {}\".format(attention_result.shape))\n",
        "print(\"Attention weights shape: (batch_size, sequence_length, 1) {}\".format(attention_weights.shape))"
      ],
      "execution_count": 20,
      "outputs": [
        {
          "output_type": "stream",
          "text": [
            "Attention result shape: (batch size, units) (64, 1024)\n",
            "Attention weights shape: (batch_size, sequence_length, 1) (64, 18, 1)\n"
          ],
          "name": "stdout"
        }
      ]
    },
    {
      "cell_type": "markdown",
      "metadata": {
        "id": "NPCxSjDWoKOT",
        "colab_type": "text"
      },
      "source": [
        "DECODER \n"
      ]
    },
    {
      "cell_type": "markdown",
      "metadata": {
        "id": "w07AFr0PoNU9",
        "colab_type": "text"
      },
      "source": [
        "The Decoder has an embedding layer, a GRU layer, and a fully connected layer.\n",
        "\n",
        "To predict the target word Decoder uses\n",
        "\n",
        "1.Context vector: the sum of Attention weights and Encoder output\n",
        "\n",
        "2.Decoder’s output from the previous time step and\n",
        "\n",
        "3.Previous Decoder’s hidden state"
      ]
    },
    {
      "cell_type": "code",
      "metadata": {
        "id": "XjgKbWd-l6rX",
        "colab_type": "code",
        "colab": {}
      },
      "source": [
        "class Decoder(tf.keras.Model):\n",
        "  def __init__(self, vocab_size, embedding_dim, dec_units, batch_sz):\n",
        "    super(Decoder, self).__init__()\n",
        "    self.batch_sz = batch_sz\n",
        "    self.dec_units = dec_units\n",
        "    self.embedding = tf.keras.layers.Embedding(vocab_size, embedding_dim)\n",
        "    self.gru = tf.keras.layers.GRU(self.dec_units,\n",
        "                                   return_sequences=True,\n",
        "                                   return_state=True,\n",
        "                                   recurrent_initializer='glorot_uniform')\n",
        "    self.fc = tf.keras.layers.Dense(vocab_size)\n",
        "\n",
        "    # used for attention\n",
        "    self.attention = BahdanauAttention(self.dec_units)\n",
        "\n",
        "  def call(self, x, hidden, enc_output):\n",
        "    # enc_output shape == (batch_size, max_length, hidden_size)\n",
        "    context_vector, attention_weights = self.attention(hidden, enc_output)\n",
        "\n",
        "    # x shape after passing through embedding == (batch_size, 1, embedding_dim)\n",
        "    x = self.embedding(x)\n",
        "\n",
        "    # x shape after concatenation == (batch_size, 1, embedding_dim + hidden_size)\n",
        "    x = tf.concat([tf.expand_dims(context_vector, 1), x], axis=-1)\n",
        "\n",
        "    # passing the concatenated vector to the GRU\n",
        "    output, state = self.gru(x)\n",
        "\n",
        "    # output shape == (batch_size * 1, hidden_size)\n",
        "    output = tf.reshape(output, (-1, output.shape[2]))\n",
        "\n",
        "    # output shape == (batch_size, vocab)\n",
        "    x = self.fc(output)\n",
        "\n",
        "    return x, state, attention_weights"
      ],
      "execution_count": 21,
      "outputs": []
    },
    {
      "cell_type": "code",
      "metadata": {
        "id": "GcVHgxP80Yfh",
        "colab_type": "code",
        "colab": {
          "base_uri": "https://localhost:8080/",
          "height": 33
        },
        "outputId": "895f9a69-4b13-45ba-ce14-b6e0a478e4da"
      },
      "source": [
        "decoder = Decoder(vocab_tar_size, embedding_dim, units, BATCH_SIZE)\n",
        "\n",
        "sample_decoder_output, _, _ = decoder(tf.random.uniform((BATCH_SIZE, 1)),\n",
        "                                      sample_hidden, sample_output)\n",
        "\n",
        "print ('Decoder output shape: (batch_size, vocab size) {}'.format(sample_decoder_output.shape))"
      ],
      "execution_count": 22,
      "outputs": [
        {
          "output_type": "stream",
          "text": [
            "Decoder output shape: (batch_size, vocab size) (64, 5339)\n"
          ],
          "name": "stdout"
        }
      ]
    },
    {
      "cell_type": "code",
      "metadata": {
        "id": "rG3oY_Ml0aNS",
        "colab_type": "code",
        "colab": {}
      },
      "source": [
        "optimizer = tf.keras.optimizers.Adam()\n",
        "loss_object = tf.keras.losses.SparseCategoricalCrossentropy(\n",
        "    from_logits=True, reduction='none')\n",
        "\n",
        "def loss_function(real, pred):\n",
        "  mask = tf.math.logical_not(tf.math.equal(real, 0))\n",
        "  loss_ = loss_object(real, pred)\n",
        "\n",
        "  mask = tf.cast(mask, dtype=loss_.dtype)\n",
        "  loss_ *= mask\n",
        "\n",
        "  return tf.reduce_mean(loss_)"
      ],
      "execution_count": 23,
      "outputs": []
    },
    {
      "cell_type": "code",
      "metadata": {
        "id": "AP7FhaH70ofL",
        "colab_type": "code",
        "colab": {}
      },
      "source": [
        "checkpoint_dir = '/content/drive/My Drive/Translation Dataset/French - English/Training Checkpoints'\n",
        "checkpoint_prefix = os.path.join(checkpoint_dir, \"ckpt\")\n",
        "checkpoint = tf.train.Checkpoint(optimizer=optimizer,\n",
        "                                 encoder=encoder,\n",
        "                                 decoder=decoder)"
      ],
      "execution_count": 35,
      "outputs": []
    },
    {
      "cell_type": "code",
      "metadata": {
        "id": "sS1OGag40shK",
        "colab_type": "code",
        "colab": {}
      },
      "source": [
        "@tf.function\n",
        "def train_step(inp, targ, enc_hidden):\n",
        "  loss = 0\n",
        "\n",
        "  with tf.GradientTape() as tape:\n",
        "    enc_output, enc_hidden = encoder(inp, enc_hidden)\n",
        "\n",
        "    dec_hidden = enc_hidden\n",
        "\n",
        "    dec_input = tf.expand_dims([targ_lang.word_index['<start>']] * BATCH_SIZE, 1)\n",
        "\n",
        "    # Teacher forcing - feeding the target as the next input\n",
        "    for t in range(1, targ.shape[1]):\n",
        "      # passing enc_output to the decoder\n",
        "      predictions, dec_hidden, _ = decoder(dec_input, dec_hidden, enc_output)\n",
        "\n",
        "      loss += loss_function(targ[:, t], predictions)\n",
        "\n",
        "      # using teacher forcing\n",
        "      dec_input = tf.expand_dims(targ[:, t], 1)\n",
        "\n",
        "  batch_loss = (loss / int(targ.shape[1]))\n",
        "\n",
        "  variables = encoder.trainable_variables + decoder.trainable_variables\n",
        "\n",
        "  gradients = tape.gradient(loss, variables)\n",
        "\n",
        "  optimizer.apply_gradients(zip(gradients, variables))\n",
        "\n",
        "  return batch_loss"
      ],
      "execution_count": 36,
      "outputs": []
    },
    {
      "cell_type": "code",
      "metadata": {
        "id": "F8rigiXJ04yQ",
        "colab_type": "code",
        "colab": {
          "base_uri": "https://localhost:8080/",
          "height": 50
        },
        "outputId": "927c3365-2914-4781-e2bc-ef47b5dde473"
      },
      "source": [
        "EPOCHS = 15\n",
        "\n",
        "for epoch in range(EPOCHS):\n",
        "  start = time.time()\n",
        "\n",
        "  enc_hidden = encoder.initialize_hidden_state()\n",
        "  total_loss = 0\n",
        "\n",
        "  for (batch, (inp, targ)) in enumerate(dataset.take(steps_per_epoch)):\n",
        "    batch_loss = train_step(inp, targ, enc_hidden)\n",
        "    total_loss += batch_loss\n",
        "\n",
        "    if batch % 100 == 0:\n",
        "      print('Epoch {} Batch {} Loss {:.4f}'.format(epoch + 1,\n",
        "                                                   batch,\n",
        "                                                   batch_loss.numpy()))\n",
        "  # saving (checkpoint) the model every 2 epochs\n",
        "  if (epoch + 1) % 2 == 0:\n",
        "    checkpoint.save(file_prefix = checkpoint_prefix)\n",
        "\n",
        "  print('Epoch {} Loss {:.4f}'.format(epoch + 1,\n",
        "                                      total_loss / steps_per_epoch))\n",
        "  print('Time taken for 1 epoch {} sec\\n'.format(time.time() - start))"
      ],
      "execution_count": null,
      "outputs": [
        {
          "output_type": "stream",
          "text": [
            "Epoch 1 Batch 0 Loss 4.6078\n",
            "Epoch 1 Batch 100 Loss 2.2362\n"
          ],
          "name": "stdout"
        }
      ]
    },
    {
      "cell_type": "code",
      "metadata": {
        "id": "LGuBcFAm1DZZ",
        "colab_type": "code",
        "colab": {}
      },
      "source": [
        "def evaluate(sentence):\n",
        "  attention_plot = np.zeros((max_length_targ, max_length_inp))\n",
        "\n",
        "  sentence = preprocess_sentence(sentence)\n",
        "\n",
        "  inputs = [inp_lang.word_index[i] for i in sentence.split(' ')]\n",
        "  inputs = tf.keras.preprocessing.sequence.pad_sequences([inputs],\n",
        "                                                         maxlen=max_length_inp,\n",
        "                                                         padding='post')\n",
        "  inputs = tf.convert_to_tensor(inputs)\n",
        "\n",
        "  result = ''\n",
        "\n",
        "  hidden = [tf.zeros((1, units))]\n",
        "  enc_out, enc_hidden = encoder(inputs, hidden)\n",
        "\n",
        "  dec_hidden = enc_hidden\n",
        "  dec_input = tf.expand_dims([targ_lang.word_index['<start>']], 0)\n",
        "\n",
        "  for t in range(max_length_targ):\n",
        "    predictions, dec_hidden, attention_weights = decoder(dec_input,\n",
        "                                                         dec_hidden,\n",
        "                                                         enc_out)\n",
        "\n",
        "    # storing the attention weights to plot later on\n",
        "    attention_weights = tf.reshape(attention_weights, (-1, ))\n",
        "    attention_plot[t] = attention_weights.numpy()\n",
        "\n",
        "    predicted_id = tf.argmax(predictions[0]).numpy()\n",
        "\n",
        "    result += targ_lang.index_word[predicted_id] + ' '\n",
        "\n",
        "    if targ_lang.index_word[predicted_id] == '<end>':\n",
        "      return result, sentence, attention_plot\n",
        "\n",
        "    # the predicted ID is fed back into the model\n",
        "    dec_input = tf.expand_dims([predicted_id], 0)\n",
        "\n",
        "  return result, sentence, attention_plot"
      ],
      "execution_count": 24,
      "outputs": []
    },
    {
      "cell_type": "code",
      "metadata": {
        "id": "mA5y90XfbzDF",
        "colab_type": "code",
        "colab": {}
      },
      "source": [
        "# function for plotting the attention weights\n",
        "def plot_attention(attention, sentence, predicted_sentence):\n",
        "  fig = plt.figure(figsize=(10,10))\n",
        "  ax = fig.add_subplot(1, 1, 1)\n",
        "  ax.matshow(attention, cmap='viridis')\n",
        "\n",
        "  fontdict = {'fontsize': 14}\n",
        "\n",
        "  ax.set_xticklabels([''] + sentence, fontdict=fontdict, rotation=90)\n",
        "  ax.set_yticklabels([''] + predicted_sentence, fontdict=fontdict)\n",
        "\n",
        "  ax.xaxis.set_major_locator(ticker.MultipleLocator(1))\n",
        "  ax.yaxis.set_major_locator(ticker.MultipleLocator(1))\n",
        "\n",
        "  plt.show()"
      ],
      "execution_count": 25,
      "outputs": []
    },
    {
      "cell_type": "code",
      "metadata": {
        "id": "aY8ZFK60b2Fi",
        "colab_type": "code",
        "colab": {}
      },
      "source": [
        "def translate(sentence):\n",
        "  result, sentence, attention_plot = evaluate(sentence)\n",
        "\n",
        "  print('Input: %s' % (sentence))\n",
        "  print('Predicted translation: {}'.format(result))\n",
        "\n",
        "  attention_plot = attention_plot[:len(result.split(' ')), :len(sentence.split(' '))]\n",
        "  plot_attention(attention_plot, sentence.split(' '), result.split(' '))"
      ],
      "execution_count": 26,
      "outputs": []
    },
    {
      "cell_type": "code",
      "metadata": {
        "id": "mQe0s_LQb8M8",
        "colab_type": "code",
        "colab": {
          "base_uri": "https://localhost:8080/",
          "height": 33
        },
        "outputId": "90e69047-7f4b-44f0-cef0-4596883b5cd2"
      },
      "source": [
        "# restoring the latest checkpoint in checkpoint_dir\n",
        "checkpoint.restore(tf.train.latest_checkpoint(checkpoint_dir))"
      ],
      "execution_count": 29,
      "outputs": [
        {
          "output_type": "execute_result",
          "data": {
            "text/plain": [
              "<tensorflow.python.training.tracking.util.InitializationOnlyStatus at 0x7f9ef87ae6d8>"
            ]
          },
          "metadata": {
            "tags": []
          },
          "execution_count": 29
        }
      ]
    },
    {
      "cell_type": "code",
      "metadata": {
        "id": "5bhSP6aNb-n4",
        "colab_type": "code",
        "colab": {
          "base_uri": "https://localhost:8080/",
          "height": 674
        },
        "outputId": "53a72f6d-2dfe-4d55-a9f4-7d2ae70ab11f"
      },
      "source": [
        "translate(u'Je vais bien, et vous? ')"
      ],
      "execution_count": 34,
      "outputs": [
        {
          "output_type": "stream",
          "text": [
            "Input: <start> je vais bien, et vous ? <end>\n",
            "Predicted translation: plant pure says bacon disease taste fir copies redecorated brought pro \n"
          ],
          "name": "stdout"
        },
        {
          "output_type": "display_data",
          "data": {
            "image/png": "[encoded data removed]",
            "text/plain": [
              "<Figure size 720x720 with 1 Axes>"
            ]
          },
          "metadata": {
            "tags": [],
            "needs_background": "light"
          }
        }
      ]
    },
    {
      "cell_type": "code",
      "metadata": {
        "id": "tjizJ-h0cvN3",
        "colab_type": "code",
        "colab": {}
      },
      "source": [
        ""
      ],
      "execution_count": null,
      "outputs": []
    }
  ]
}